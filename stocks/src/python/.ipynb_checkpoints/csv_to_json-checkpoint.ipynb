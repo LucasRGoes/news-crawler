{
 "cells": [
  {
   "cell_type": "code",
   "execution_count": 21,
   "metadata": {},
   "outputs": [],
   "source": [
    "import pandas as pd\n",
    "import datetime\n",
    "import matplotlib.pyplot as plt"
   ]
  },
  {
   "cell_type": "code",
   "execution_count": 22,
   "metadata": {},
   "outputs": [
    {
     "name": "stdout",
     "output_type": "stream",
     "text": [
      "<class 'pandas.core.frame.DataFrame'>\n",
      "<class 'pandas.core.frame.DataFrame'>\n",
      "<class 'pandas.core.frame.DataFrame'>\n",
      "<class 'pandas.core.frame.DataFrame'>\n",
      "<class 'pandas.core.frame.DataFrame'>\n",
      "<class 'pandas.core.frame.DataFrame'>\n",
      "<class 'pandas.core.frame.DataFrame'>\n",
      "<class 'pandas.core.frame.DataFrame'>\n",
      "<class 'pandas.core.frame.DataFrame'>\n",
      "<class 'pandas.core.frame.DataFrame'>\n",
      "<class 'pandas.core.frame.DataFrame'>\n",
      "<class 'pandas.core.frame.DataFrame'>\n",
      "<class 'pandas.core.frame.DataFrame'>\n",
      "<class 'pandas.core.frame.DataFrame'>\n"
     ]
    },
    {
     "name": "stderr",
     "output_type": "stream",
     "text": [
      "/usr/local/lib/python3.5/dist-packages/IPython/core/interactiveshell.py:2785: DtypeWarning: Columns (7) have mixed types. Specify dtype option on import or set low_memory=False.\n",
      "  interactivity=interactivity, compiler=compiler, result=result)\n"
     ]
    },
    {
     "name": "stdout",
     "output_type": "stream",
     "text": [
      "<class 'pandas.core.frame.DataFrame'>\n",
      "<class 'pandas.core.frame.DataFrame'>\n",
      "<class 'pandas.core.frame.DataFrame'>\n",
      "<class 'pandas.core.frame.DataFrame'>\n",
      "<class 'pandas.core.frame.DataFrame'>\n",
      "<class 'pandas.core.frame.DataFrame'>\n",
      "<class 'pandas.core.frame.DataFrame'>\n",
      "<class 'pandas.core.frame.DataFrame'>\n",
      "<class 'pandas.core.frame.DataFrame'>\n",
      "<class 'pandas.core.frame.DataFrame'>\n",
      "<class 'pandas.core.frame.DataFrame'>\n",
      "<class 'pandas.core.frame.DataFrame'>\n",
      "<class 'pandas.core.frame.DataFrame'>\n",
      "<class 'pandas.core.frame.DataFrame'>\n",
      "<class 'pandas.core.frame.DataFrame'>\n",
      "<class 'pandas.core.frame.DataFrame'>\n",
      "<class 'pandas.core.frame.DataFrame'>\n",
      "<class 'pandas.core.frame.DataFrame'>\n"
     ]
    }
   ],
   "source": [
    "fullPtr = []\n",
    "fullCpfl = []\n",
    "fullItau = []\n",
    "fullVale = []\n",
    "fullGol = []\n",
    "fullBrf = []\n",
    "\n",
    "for i in range(1986,2018):\n",
    "    dataset = pd.read_csv('../csv/COTAHIST_A'+str(i)+'.csv')\n",
    "    \n",
    "    petrobras = dataset.loc[dataset['codneg'] == 'PETR4']\n",
    "    cpfl      = dataset.loc[dataset['codneg'] == 'CPFE3']\n",
    "    itau      = dataset.loc[dataset['codneg'] == 'ITUB4']\n",
    "    vale      = dataset.loc[dataset['codneg'] == 'VALE3']\n",
    "    gol       = dataset.loc[dataset['codneg'] == 'GOLL4']\n",
    "    brf       = dataset.loc[dataset['codneg'] == 'BRFS3']\n",
    "    \n",
    "    fullPtr.append(petrobras)\n",
    "    fullCpfl.append(cpfl)\n",
    "    fullItau.append(itau)\n",
    "    fullVale.append(vale)\n",
    "    fullGol.append(gol)\n",
    "    fullBrf.append(brf)\n",
    "    print(type(fullPtr[0]))\n",
    "\n",
    "#frames = [petrobas, cpfl, itau, vale, gol, brf]\n",
    "fullPtr = pd.concat(fullPtr)\n",
    "fullCpfl = pd.concat(fullCpfl)\n",
    "fullItau = pd.concat(fullItau)\n",
    "fullVale = pd.concat(fullVale)\n",
    "fullGol = pd.concat(fullGol)\n",
    "fullBrf = pd.concat(fullBrf)"
   ]
  },
  {
   "cell_type": "code",
   "execution_count": 23,
   "metadata": {},
   "outputs": [],
   "source": [
    "fullPtr = fullPtr.to_json(orient='records')\n",
    "fullCpfl = fullCpfl.to_json(orient='records')\n",
    "fullItau = fullItau.to_json(orient='records')\n",
    "fullVale = fullVale.to_json(orient='records')\n",
    "fullGol = fullGol.to_json(orient='records')\n",
    "fullBrf = fullBrf.to_json(orient='records')\n"
   ]
  },
  {
   "cell_type": "code",
   "execution_count": 24,
   "metadata": {
    "scrolled": false
   },
   "outputs": [],
   "source": [
    "\n",
    "f = open('../json/dataset_ptr.json', 'w')\n",
    "f.write(fullPtr[1:-1].replace(\"},{\", \"}\\n{\"))\n",
    "f.close()\n",
    "\n",
    "\n",
    "f = open('../json/dataset_cpfl.json', 'w')\n",
    "f.write(fullCpfl[1:-1].replace(\"},{\", \"}\\n{\"))\n",
    "f.close()\n",
    "\n",
    "\n",
    "f = open('../json/dataset_vale.json', 'w')\n",
    "f.write(fullVale[1:-1].replace(\"},{\", \"}\\n{\"))\n",
    "f.close()\n",
    "\n",
    "\n",
    "f = open('../json/dataset_gol.json', 'w')\n",
    "f.write(fullGol[1:-1].replace(\"},{\", \"}\\n{\"))\n",
    "f.close()\n",
    "\n",
    "\n",
    "f = open('../json/dataset_Itau.json', 'w')\n",
    "f.write(fullItau[1:-1].replace(\"},{\", \"}\\n{\"))\n",
    "f.close()\n",
    "\n",
    "\n",
    "f = open('../json/dataset_brf.json', 'w')\n",
    "f.write(fullBrf[1:-1].replace(\"},{\", \"}\\n{\"))\n",
    "f.close()\n",
    "\n"
   ]
  },
  {
   "cell_type": "code",
   "execution_count": null,
   "metadata": {},
   "outputs": [],
   "source": []
  },
  {
   "cell_type": "code",
   "execution_count": null,
   "metadata": {},
   "outputs": [],
   "source": []
  }
 ],
 "metadata": {
  "kernelspec": {
   "display_name": "Python 3",
   "language": "python",
   "name": "python3"
  },
  "language_info": {
   "codemirror_mode": {
    "name": "ipython",
    "version": 3
   },
   "file_extension": ".py",
   "mimetype": "text/x-python",
   "name": "python",
   "nbconvert_exporter": "python",
   "pygments_lexer": "ipython3",
   "version": "3.5.2"
  }
 },
 "nbformat": 4,
 "nbformat_minor": 2
}
