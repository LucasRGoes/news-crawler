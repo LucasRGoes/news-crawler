{
 "cells": [
  {
   "cell_type": "code",
   "execution_count": null,
   "metadata": {},
   "outputs": [],
   "source": [
    "import pandas as pd\n",
    "import datetime\n",
    "import matplotlib.pyplot as plt"
   ]
  },
  {
   "cell_type": "code",
   "execution_count": null,
   "metadata": {
    "scrolled": true
   },
   "outputs": [],
   "source": [
    "fullPtr = []\n",
    "fullCpfl = []\n",
    "fullItau = []\n",
    "fullVale = []\n",
    "fullGol = []\n",
    "fullBrf = []\n",
    "\n",
    "for i in range(1986,2018):\n",
    "    dataset = pd.read_csv('../csv/COTAHIST_A'+str(i)+'.csv')\n",
    "    \n",
    "    petrobras = dataset.loc[dataset['codneg'] == 'PETR4']\n",
    "    cpfl      = dataset.loc[dataset['codneg'] == 'CPFE3']\n",
    "    itau      = dataset.loc[dataset['codneg'] == 'ITUB4']\n",
    "    vale      = dataset.loc[dataset['codneg'] == 'VALE3']\n",
    "    gol       = dataset.loc[dataset['codneg'] == 'GOLL4']\n",
    "    brf       = dataset.loc[dataset['codneg'] == 'BRFS3']\n",
    "    \n",
    "    fullPtr.append(petrobras)\n",
    "    fullCpfl.append(cpfl)\n",
    "    fullItau.append(itau)\n",
    "    fullVale.append(vale)\n",
    "    fullGol.append(gol)\n",
    "    fullBrf.append(brf)\n",
    "    print(type(fullPtr[0]))\n",
    "\n",
    "#frames = [petrobas, cpfl, itau, vale, gol, brf]\n",
    "fullPtr = pd.concat(fullPtr)\n",
    "fullCpfl = pd.concat(fullCpfl)\n",
    "fullItau = pd.concat(fullItau)\n",
    "fullVale = pd.concat(fullVale)\n",
    "fullGol = pd.concat(fullGol)\n",
    "fullBrf = pd.concat(fullBrf)"
   ]
  },
  {
   "cell_type": "code",
   "execution_count": null,
   "metadata": {},
   "outputs": [],
   "source": [
    "t  = fullPtr.to_csv()\n",
    "t2 = fullCpfl.to_csv()\n",
    "t3 = fullItau.to_csv()\n",
    "t4 = fullVale.to_csv()\n",
    "t5 = fullGol.to_csv()\n",
    "t6 = fullBrf.to_csv()\n",
    "\n",
    "f = open('../csv/dataset_ptr.csv', 'w')\n",
    "f.write(t)\n",
    "f.close()\n",
    "\n",
    "f = open('../csv/dataset_cpfl.csv', 'w')\n",
    "f.write(t2)\n",
    "f.close()\n",
    "\n",
    "f = open('../csv/dataset_vale.csv', 'w')\n",
    "f.write(t3)\n",
    "f.close()\n",
    "\n",
    "f = open('../csv/dataset_gol.csv', 'w')\n",
    "f.write(t4)\n",
    "f.close()\n",
    "\n",
    "f = open('../csv/dataset_Itau.csv', 'w')\n",
    "f.write(t5)\n",
    "f.close()\n",
    "\n",
    "f = open('../csv/dataset_brf.csv', 'w')\n",
    "f.write(t6)\n",
    "f.close()\n"
   ]
  },
  {
   "cell_type": "code",
   "execution_count": null,
   "metadata": {},
   "outputs": [],
   "source": [
    "fullPtr = fullPtr.to_json(orient='records')\n",
    "fullCpfl = fullCpfl.to_json(orient='records')\n",
    "fullItau = fullItau.to_json(orient='records')\n",
    "fullVale = fullVale.to_json(orient='records')\n",
    "fullGol = fullGol.to_json(orient='records')\n",
    "fullBrf = fullBrf.to_json(orient='records')\n"
   ]
  },
  {
   "cell_type": "code",
   "execution_count": null,
   "metadata": {
    "scrolled": false
   },
   "outputs": [],
   "source": [
    "#Petrobras\n",
    "f = open('../json/dataset_ptr.json', 'w')\n",
    "f.write(fullPtr[1:-1].replace(\"},{\", \"}\\n{\"))\n",
    "f.close()\n",
    "\n",
    "\n",
    "#CPFL\n",
    "f = open('../json/dataset_cpfl.json', 'w')\n",
    "f.write(fullCpfl[1:-1].replace(\"},{\", \"}\\n{\"))\n",
    "f.close()\n",
    "\n",
    "\n",
    "#VALE\n",
    "f = open('../json/dataset_vale.json', 'w')\n",
    "f.write(fullVale[1:-1].replace(\"},{\", \"}\\n{\"))\n",
    "f.close()\n",
    "\n",
    "#GOL\n",
    "f = open('../json/dataset_gol.json', 'w')\n",
    "f.write(fullGol[1:-1].replace(\"},{\", \"}\\n{\"))\n",
    "f.close()\n",
    "\n",
    "#Itau\n",
    "f = open('../json/dataset_Itau.json', 'w')\n",
    "f.write(fullItau[1:-1].replace(\"},{\", \"}\\n{\"))\n",
    "f.close()\n",
    "\n",
    "\n",
    "\n",
    "f = open('../json/dataset_brf.json', 'w')\n",
    "f.write(fullBrf[1:-1].replace(\"},{\", \"}\\n{\"))\n",
    "f.close()\n"
   ]
  },
  {
   "cell_type": "code",
   "execution_count": null,
   "metadata": {},
   "outputs": [],
   "source": []
  },
  {
   "cell_type": "code",
   "execution_count": null,
   "metadata": {},
   "outputs": [],
   "source": []
  }
 ],
 "metadata": {
  "kernelspec": {
   "display_name": "Python 3",
   "language": "python",
   "name": "python3"
  },
  "language_info": {
   "codemirror_mode": {
    "name": "ipython",
    "version": 3
   },
   "file_extension": ".py",
   "mimetype": "text/x-python",
   "name": "python",
   "nbconvert_exporter": "python",
   "pygments_lexer": "ipython3",
   "version": "3.5.2"
  }
 },
 "nbformat": 4,
 "nbformat_minor": 2
}
